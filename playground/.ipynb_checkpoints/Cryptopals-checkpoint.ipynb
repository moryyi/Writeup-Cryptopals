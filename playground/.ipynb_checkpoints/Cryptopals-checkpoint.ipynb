{
 "cells": [
  {
   "cell_type": "code",
   "execution_count": 1,
   "metadata": {},
   "outputs": [],
   "source": [
    "# Cryptopals\n",
    "# https://cryptopals.com/"
   ]
  },
  {
   "cell_type": "code",
   "execution_count": 31,
   "metadata": {},
   "outputs": [],
   "source": [
    "def display(hexList):\n",
    "    print(\"> Length of list: {}\".format(len(hexList)))\n",
    "    for i in range(0, len(hexList), 16):\n",
    "        print(hexList[i : i + 16])\n",
    "    print(\"\\t> String: {}\".format(''.join([chr(h) for h in hexList])))\n",
    "    return"
   ]
  },
  {
   "cell_type": "code",
   "execution_count": 42,
   "metadata": {},
   "outputs": [],
   "source": [
    "import base64\n",
    "def compareDecryption(b64Decipher01, b64Decipher02):\n",
    "    print(b64Cipher01)\n",
    "    print(b64Cipher02)\n",
    "    bDecipher01 = base64.b64decode(b64Decipher01)\n",
    "    bDecipher02 = base64.b64decode(b64Decipher02)\n",
    "    decipherList01 = list(bDecipher01)\n",
    "    decipherList02 = list(bDecipher02)\n",
    "    display(decipherList01)\n",
    "    display(decipherList02)\n",
    "    return\n"
   ]
  },
  {
   "cell_type": "code",
   "execution_count": 43,
   "metadata": {},
   "outputs": [
    {
     "ename": "NameError",
     "evalue": "name 'b64Cipher01' is not defined",
     "output_type": "error",
     "traceback": [
      "\u001b[1;31m---------------------------------------------------------------------------\u001b[0m",
      "\u001b[1;31mNameError\u001b[0m                                 Traceback (most recent call last)",
      "\u001b[1;32m<ipython-input-43-977e652434bf>\u001b[0m in \u001b[0;36m<module>\u001b[1;34m()\u001b[0m\n\u001b[0;32m      1\u001b[0m compareDecryption(\n\u001b[0;32m      2\u001b[0m \u001b[1;34mb'RElfXOQJ8UBXoCztNAJkXyQyME1Dczt1c2VyZGF0YT10ZXN0ZGF0YTtjb21tZW50Mj0lMjBsaWtlJTIwYSUyMHBvdW5kJTIwb2YlMjBiYWNvbg=='\u001b[0m\u001b[1;33m,\u001b[0m\u001b[1;33m\u001b[0m\u001b[0m\n\u001b[1;32m----> 3\u001b[1;33m \u001b[1;34mb'Y29tbWVudDE9Y29va2luZyUyME1Dczt1c2VyZGF0YT10ZXN0ZGF0YTtjb21tZW50Mj0lMjBsaWtlJTIwYSUyMHBvdW5kJTIwb2YlMjBiYWNvbg=='\u001b[0m\u001b[1;33m\u001b[0m\u001b[0m\n\u001b[0m\u001b[0;32m      4\u001b[0m )\n",
      "\u001b[1;32m<ipython-input-42-b6ef8f61f186>\u001b[0m in \u001b[0;36mcompareDecryption\u001b[1;34m(b64ecipher01, b64Decipher02)\u001b[0m\n\u001b[0;32m      1\u001b[0m \u001b[1;32mimport\u001b[0m \u001b[0mbase64\u001b[0m\u001b[1;33m\u001b[0m\u001b[0m\n\u001b[0;32m      2\u001b[0m \u001b[1;32mdef\u001b[0m \u001b[0mcompareDecryption\u001b[0m\u001b[1;33m(\u001b[0m\u001b[0mb64ecipher01\u001b[0m\u001b[1;33m,\u001b[0m \u001b[0mb64Decipher02\u001b[0m\u001b[1;33m)\u001b[0m\u001b[1;33m:\u001b[0m\u001b[1;33m\u001b[0m\u001b[0m\n\u001b[1;32m----> 3\u001b[1;33m     \u001b[0mprint\u001b[0m\u001b[1;33m(\u001b[0m\u001b[0mb64Cipher01\u001b[0m\u001b[1;33m)\u001b[0m\u001b[1;33m\u001b[0m\u001b[0m\n\u001b[0m\u001b[0;32m      4\u001b[0m     \u001b[0mprint\u001b[0m\u001b[1;33m(\u001b[0m\u001b[0mb64Cipher02\u001b[0m\u001b[1;33m)\u001b[0m\u001b[1;33m\u001b[0m\u001b[0m\n\u001b[0;32m      5\u001b[0m     \u001b[0mbDecipher01\u001b[0m \u001b[1;33m=\u001b[0m \u001b[0mbase64\u001b[0m\u001b[1;33m.\u001b[0m\u001b[0mb64decode\u001b[0m\u001b[1;33m(\u001b[0m\u001b[0mb64Decipher01\u001b[0m\u001b[1;33m)\u001b[0m\u001b[1;33m\u001b[0m\u001b[0m\n",
      "\u001b[1;31mNameError\u001b[0m: name 'b64Cipher01' is not defined"
     ]
    }
   ],
   "source": [
    "compareDecryption(\n",
    "b'RElfXOQJ8UBXoCztNAJkXyQyME1Dczt1c2VyZGF0YT10ZXN0ZGF0YTtjb21tZW50Mj0lMjBsaWtlJTIwYSUyMHBvdW5kJTIwb2YlMjBiYWNvbg==',\n",
    "b'Y29tbWVudDE9Y29va2luZyUyME1Dczt1c2VyZGF0YT10ZXN0ZGF0YTtjb21tZW50Mj0lMjBsaWtlJTIwYSUyMHBvdW5kJTIwb2YlMjBiYWNvbg=='\n",
    ")"
   ]
  },
  {
   "cell_type": "code",
   "execution_count": 39,
   "metadata": {},
   "outputs": [
    {
     "name": "stdout",
     "output_type": "stream",
     "text": [
      "> Length of list: 82\n",
      "[214, 9, 212, 244, 217, 190, 32, 9, 121, 29, 171, 184, 216, 223, 127, 183]\n",
      "[37, 50, 48, 76, 67, 115, 59, 117, 115, 101, 114, 100, 97, 116, 97, 61]\n",
      "[116, 101, 115, 116, 100, 97, 116, 97, 59, 99, 111, 109, 109, 101, 110, 116]\n",
      "[50, 61, 37, 50, 48, 108, 105, 107, 101, 37, 50, 48, 97, 37, 50, 48]\n",
      "[112, 111, 117, 110, 100, 37, 50, 48, 111, 102, 37, 50, 48, 98, 97, 99]\n",
      "[111, 110]\n",
      "\t> String: Ö\tÔôÙ¾ \ty\u001d",
      "«¸Øß·%20LCs;userdata=testdata;comment2=%20like%20a%20pound%20of%20bacon\n",
      "> Length of list: 82\n",
      "[99, 111, 109, 109, 101, 110, 116, 49, 61, 99, 111, 111, 107, 105, 110, 103]\n",
      "[37, 50, 48, 77, 67, 115, 59, 117, 115, 101, 114, 100, 97, 116, 97, 61]\n",
      "[116, 101, 115, 116, 100, 97, 116, 97, 59, 99, 111, 109, 109, 101, 110, 116]\n",
      "[50, 61, 37, 50, 48, 108, 105, 107, 101, 37, 50, 48, 97, 37, 50, 48]\n",
      "[112, 111, 117, 110, 100, 37, 50, 48, 111, 102, 37, 50, 48, 98, 97, 99]\n",
      "[111, 110]\n",
      "\t> String: comment1=cooking%20MCs;userdata=testdata;comment2=%20like%20a%20pound%20of%20bacon\n"
     ]
    }
   ],
   "source": [
    "compareDecryption(\n",
    "b'IUmJCHhT/fu530rT92R5gCUzME1Dczt1c2VyZGF0YT10ZXN0ZGF0YTtjb21tZW50Mj0lMjBsaWtlJTIwYSUyMHBvdW5kJTIwb2YlMjBiYWNvbg==',\n",
    "b'Y29tbWVudDE9Y29va2luZyUyME1Dczt1c2VyZGF0YT10ZXN0ZGF0YTtjb21tZW50Mj0lMjBsaWtlJTIwYSUyMHBvdW5kJTIwb2YlMjBiYWNvbg=='\n",
    ")"
   ]
  },
  {
   "cell_type": "code",
   "execution_count": null,
   "metadata": {},
   "outputs": [],
   "source": []
  }
 ],
 "metadata": {
  "kernelspec": {
   "display_name": "Python 3",
   "language": "python",
   "name": "python3"
  },
  "language_info": {
   "codemirror_mode": {
    "name": "ipython",
    "version": 3
   },
   "file_extension": ".py",
   "mimetype": "text/x-python",
   "name": "python",
   "nbconvert_exporter": "python",
   "pygments_lexer": "ipython3",
   "version": "3.6.5"
  }
 },
 "nbformat": 4,
 "nbformat_minor": 2
}
