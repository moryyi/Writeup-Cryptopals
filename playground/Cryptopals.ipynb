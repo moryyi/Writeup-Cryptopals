{
 "cells": [
  {
   "cell_type": "code",
   "execution_count": 1,
   "metadata": {},
   "outputs": [],
   "source": [
    "# Cryptopals\n",
    "# https://cryptopals.com/"
   ]
  },
  {
   "cell_type": "code",
   "execution_count": 2,
   "metadata": {},
   "outputs": [],
   "source": [
    "def display(hexList):\n",
    "    print(\"> Length of list: {}\".format(len(hexList)))\n",
    "    for i in range(0, len(hexList), 16):\n",
    "        print(hexList[i : i + 16])\n",
    "    print(\"\\t> String: {}\".format(''.join([chr(h) for h in hexList])))\n",
    "    return"
   ]
  },
  {
   "cell_type": "code",
   "execution_count": 5,
   "metadata": {},
   "outputs": [],
   "source": [
    "import base64\n",
    "def compareDecryption(b64Decipher01, b64Decipher02):\n",
    "    bDecipher01 = base64.b64decode(b64Decipher01)\n",
    "    bDecipher02 = base64.b64decode(b64Decipher02)\n",
    "    decipherList01 = list(bDecipher01)\n",
    "    decipherList02 = list(bDecipher02)\n",
    "    display(decipherList01)\n",
    "    display(decipherList02)\n",
    "    return\n"
   ]
  },
  {
   "cell_type": "code",
   "execution_count": 6,
   "metadata": {},
   "outputs": [
    {
     "name": "stdout",
     "output_type": "stream",
     "text": [
      "> Length of list: 82\n",
      "[68, 73, 95, 92, 228, 9, 241, 64, 87, 160, 44, 237, 52, 2, 100, 95]\n",
      "[36, 50, 48, 77, 67, 115, 59, 117, 115, 101, 114, 100, 97, 116, 97, 61]\n",
      "[116, 101, 115, 116, 100, 97, 116, 97, 59, 99, 111, 109, 109, 101, 110, 116]\n",
      "[50, 61, 37, 50, 48, 108, 105, 107, 101, 37, 50, 48, 97, 37, 50, 48]\n",
      "[112, 111, 117, 110, 100, 37, 50, 48, 111, 102, 37, 50, 48, 98, 97, 99]\n",
      "[111, 110]\n",
      "\t> String: DI_\\ä\tñ@W ,í4\u0002d_$20MCs;userdata=testdata;comment2=%20like%20a%20pound%20of%20bacon\n",
      "> Length of list: 82\n",
      "[99, 111, 109, 109, 101, 110, 116, 49, 61, 99, 111, 111, 107, 105, 110, 103]\n",
      "[37, 50, 48, 77, 67, 115, 59, 117, 115, 101, 114, 100, 97, 116, 97, 61]\n",
      "[116, 101, 115, 116, 100, 97, 116, 97, 59, 99, 111, 109, 109, 101, 110, 116]\n",
      "[50, 61, 37, 50, 48, 108, 105, 107, 101, 37, 50, 48, 97, 37, 50, 48]\n",
      "[112, 111, 117, 110, 100, 37, 50, 48, 111, 102, 37, 50, 48, 98, 97, 99]\n",
      "[111, 110]\n",
      "\t> String: comment1=cooking%20MCs;userdata=testdata;comment2=%20like%20a%20pound%20of%20bacon\n"
     ]
    }
   ],
   "source": [
    "compareDecryption(\n",
    "b'RElfXOQJ8UBXoCztNAJkXyQyME1Dczt1c2VyZGF0YT10ZXN0ZGF0YTtjb21tZW50Mj0lMjBsaWtlJTIwYSUyMHBvdW5kJTIwb2YlMjBiYWNvbg==',\n",
    "b'Y29tbWVudDE9Y29va2luZyUyME1Dczt1c2VyZGF0YT10ZXN0ZGF0YTtjb21tZW50Mj0lMjBsaWtlJTIwYSUyMHBvdW5kJTIwb2YlMjBiYWNvbg=='\n",
    ")"
   ]
  },
  {
   "cell_type": "code",
   "execution_count": 7,
   "metadata": {},
   "outputs": [
    {
     "name": "stdout",
     "output_type": "stream",
     "text": [
      "> Length of list: 82\n",
      "[33, 73, 137, 8, 120, 83, 253, 251, 185, 223, 74, 211, 247, 100, 121, 128]\n",
      "[37, 51, 48, 77, 67, 115, 59, 117, 115, 101, 114, 100, 97, 116, 97, 61]\n",
      "[116, 101, 115, 116, 100, 97, 116, 97, 59, 99, 111, 109, 109, 101, 110, 116]\n",
      "[50, 61, 37, 50, 48, 108, 105, 107, 101, 37, 50, 48, 97, 37, 50, 48]\n",
      "[112, 111, 117, 110, 100, 37, 50, 48, 111, 102, 37, 50, 48, 98, 97, 99]\n",
      "[111, 110]\n",
      "\t> String: !I\bxSýû¹ßJÓ÷dy%30MCs;userdata=testdata;comment2=%20like%20a%20pound%20of%20bacon\n",
      "> Length of list: 82\n",
      "[99, 111, 109, 109, 101, 110, 116, 49, 61, 99, 111, 111, 107, 105, 110, 103]\n",
      "[37, 50, 48, 77, 67, 115, 59, 117, 115, 101, 114, 100, 97, 116, 97, 61]\n",
      "[116, 101, 115, 116, 100, 97, 116, 97, 59, 99, 111, 109, 109, 101, 110, 116]\n",
      "[50, 61, 37, 50, 48, 108, 105, 107, 101, 37, 50, 48, 97, 37, 50, 48]\n",
      "[112, 111, 117, 110, 100, 37, 50, 48, 111, 102, 37, 50, 48, 98, 97, 99]\n",
      "[111, 110]\n",
      "\t> String: comment1=cooking%20MCs;userdata=testdata;comment2=%20like%20a%20pound%20of%20bacon\n"
     ]
    }
   ],
   "source": [
    "compareDecryption(\n",
    "b'IUmJCHhT/fu530rT92R5gCUzME1Dczt1c2VyZGF0YT10ZXN0ZGF0YTtjb21tZW50Mj0lMjBsaWtlJTIwYSUyMHBvdW5kJTIwb2YlMjBiYWNvbg==',\n",
    "b'Y29tbWVudDE9Y29va2luZyUyME1Dczt1c2VyZGF0YT10ZXN0ZGF0YTtjb21tZW50Mj0lMjBsaWtlJTIwYSUyMHBvdW5kJTIwb2YlMjBiYWNvbg=='\n",
    ")"
   ]
  },
  {
   "cell_type": "code",
   "execution_count": 13,
   "metadata": {},
   "outputs": [
    {
     "name": "stdout",
     "output_type": "stream",
     "text": [
      "[0, 75, 0, 0, 0, 0, 0, 76, 0, 0, 0, 0, 0, 0, 0, 0]\n"
     ]
    }
   ],
   "source": [
    "original_Plaintext_ln_01 = b'%20MCs;userdata='\n",
    "original_Plaintext_ln_02 = b'ppadminqtrue;com'\n",
    "\n",
    "target_Plaintext_ln_01 = b'%20MCs;userdata='\n",
    "target_Plaintext_ln_02 = b'p;admin=true;com'\n",
    "\n",
    "_result = []\n",
    "for i in range(len(original_Plaintext_ln_02)):\n",
    "    if original_Plaintext_ln_02[i] != target_Plaintext_ln_02[i]:\n",
    "        _result.append(original_Plaintext_ln_02[i] ^ target_Plaintext_ln_02[i])\n",
    "    else:\n",
    "        _result.append(0)\n",
    "print(_result)"
   ]
  },
  {
   "cell_type": "code",
   "execution_count": 16,
   "metadata": {},
   "outputs": [
    {
     "name": "stdout",
     "output_type": "stream",
     "text": [
      "[209, 58, 107, 134, 90, 128, 68, 109, 236, 176, 114, 134, 242, 119, 232, 122, 208, 145, 87, 175, 123, 244, 94, 191, 48, 193, 12, 88, 249, 224, 236, 32, 214, 54, 71, 220, 240, 131, 202, 70, 11, 109, 44, 182, 23, 34, 5, 182, 135, 93, 80, 185, 174, 116, 12, 144, 235, 149, 80, 64, 31, 216, 19, 163, 187, 186, 229, 135, 105, 176, 207, 40, 97, 185, 77, 18, 49, 95, 230, 133, 101, 177, 192, 136, 89, 190, 112, 139, 58, 182, 101, 21, 44, 130, 53, 8]\n"
     ]
    }
   ],
   "source": [
    "b64Decipher = b'0TprhlqARG3ssHKG8nfoetCRV6979F6/MMEMWPng7CDWNkfc8IPKRgttLLYXIgW2h11Qua50DJDrlVBAH9gTo7u65YdpsM8oYblNEjFf5oVlscCIWb5wizq2ZRUsgjUI'\n",
    "bDecipher = base64.b64decode(b64Decipher)\n",
    "decipherHexList = list(bDecipher)\n",
    "print(decipherHexList)"
   ]
  },
  {
   "cell_type": "code",
   "execution_count": 17,
   "metadata": {},
   "outputs": [
    {
     "name": "stdout",
     "output_type": "stream",
     "text": [
      "[209, 58, 107, 134, 90, 128, 68, 109, 236, 176, 114, 134, 242, 119, 232, 122, 208, 218, 87, 175, 123, 244, 94, 243, 48, 193, 12, 88, 249, 224, 236, 32, 214, 54, 71, 220, 240, 131, 202, 70, 11, 109, 44, 182, 23, 34, 5, 182, 135, 93, 80, 185, 174, 116, 12, 144, 235, 149, 80, 64, 31, 216, 19, 163, 187, 186, 229, 135, 105, 176, 207, 40, 97, 185, 77, 18, 49, 95, 230, 133, 101, 177, 192, 136, 89, 190, 112, 139, 58, 182, 101, 21, 44, 130, 53, 8]\n"
     ]
    }
   ],
   "source": [
    "for i in range(len(_result)):\n",
    "    decipherHexList[16 + i] ^= _result[i]\n",
    "print(decipherHexList)"
   ]
  },
  {
   "cell_type": "code",
   "execution_count": 18,
   "metadata": {},
   "outputs": [
    {
     "name": "stdout",
     "output_type": "stream",
     "text": [
      "b'0TprhlqARG3ssHKG8nfoetDaV6979F7zMMEMWPng7CDWNkfc8IPKRgttLLYXIgW2h11Qua50DJDrlVBAH9gTo7u65YdpsM8oYblNEjFf5oVlscCIWb5wizq2ZRUsgjUI'\n"
     ]
    }
   ],
   "source": [
    "bCipher = bytes(decipherHexList)\n",
    "b64Cipher = base64.b64encode(bCipher)\n",
    "print(b64Cipher)"
   ]
  },
  {
   "cell_type": "code",
   "execution_count": null,
   "metadata": {},
   "outputs": [],
   "source": []
  }
 ],
 "metadata": {
  "kernelspec": {
   "display_name": "Python 3",
   "language": "python",
   "name": "python3"
  },
  "language_info": {
   "codemirror_mode": {
    "name": "ipython",
    "version": 3
   },
   "file_extension": ".py",
   "mimetype": "text/x-python",
   "name": "python",
   "nbconvert_exporter": "python",
   "pygments_lexer": "ipython3",
   "version": "3.6.5"
  }
 },
 "nbformat": 4,
 "nbformat_minor": 2
}
